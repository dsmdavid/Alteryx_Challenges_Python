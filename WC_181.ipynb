{
 "cells": [
  {
   "cell_type": "markdown",
   "metadata": {},
   "source": [
    "## Challenge #181: Ingredients of an Old Southern\n",
    "\n",
    "Original challenge: https://community.alteryx.com/t5/Weekly-Challenge/Challenge-181-Ingredients-of-an-Old-Southern/td-p/464549\n",
    "\n",
    "Using the provided URL, download and parse the data in the recipe for an Old Southern. Create a list of the cocktail ingredients and measurements."
   ]
  },
  {
   "cell_type": "markdown",
   "metadata": {},
   "source": [
    "## Approach:\n",
    "1. Get JSON.\n",
    "2. Filter to Ingredients and Measures.\n",
    "3. Combine."
   ]
  },
  {
   "cell_type": "markdown",
   "metadata": {},
   "source": [
    "### Obtain JSON from URL"
   ]
  },
  {
   "cell_type": "code",
   "execution_count": 1,
   "metadata": {
    "collapsed": true
   },
   "outputs": [],
   "source": [
    "import pandas as pd\n",
    "import requests\n",
    "import json"
   ]
  },
  {
   "cell_type": "code",
   "execution_count": 2,
   "metadata": {
    "collapsed": false
   },
   "outputs": [
    {
     "data": {
      "text/html": [
       "<div>\n",
       "<table border=\"1\" class=\"dataframe\">\n",
       "  <thead>\n",
       "    <tr style=\"text-align: right;\">\n",
       "      <th></th>\n",
       "      <th>Field1</th>\n",
       "    </tr>\n",
       "  </thead>\n",
       "  <tbody>\n",
       "    <tr>\n",
       "      <th>0</th>\n",
       "      <td>https://www.thecocktaildb.com/api/json/v1/1/se...</td>\n",
       "    </tr>\n",
       "  </tbody>\n",
       "</table>\n",
       "</div>"
      ],
      "text/plain": [
       "                                              Field1\n",
       "0  https://www.thecocktaildb.com/api/json/v1/1/se..."
      ]
     },
     "execution_count": 2,
     "metadata": {},
     "output_type": "execute_result"
    }
   ],
   "source": [
    "df = pd.read_csv(\"./181_files/input_181.csv\")\n",
    "df"
   ]
  },
  {
   "cell_type": "code",
   "execution_count": 3,
   "metadata": {
    "collapsed": false
   },
   "outputs": [
    {
     "data": {
      "text/plain": [
       "{'drinks': [{'dateModified': '2016-11-04 09:46:42',\n",
       "   'idDrink': '11001',\n",
       "   'strAlcoholic': 'Alcoholic',\n",
       "   'strCategory': 'Cocktail',\n",
       "   'strCreativeCommonsConfirmed': 'Yes',\n",
       "   'strDrink': 'Old Fashioned',\n",
       "   'strDrinkAlternate': None,\n",
       "   'strDrinkDE': None,\n",
       "   'strDrinkES': None,\n",
       "   'strDrinkFR': None,\n",
       "   'strDrinkThumb': 'https://www.thecocktaildb.com/images/media/drink/vrwquq1478252802.jpg',\n",
       "   'strDrinkZH-HANS': None,\n",
       "   'strDrinkZH-HANT': None,\n",
       "   'strGlass': 'Old-fashioned glass',\n",
       "   'strIBA': 'Unforgettables',\n",
       "   'strIngredient1': 'Bourbon',\n",
       "   'strIngredient10': None,\n",
       "   'strIngredient11': None,\n",
       "   'strIngredient12': None,\n",
       "   'strIngredient13': None,\n",
       "   'strIngredient14': None,\n",
       "   'strIngredient15': None,\n",
       "   'strIngredient2': 'Angostura bitters',\n",
       "   'strIngredient3': 'Sugar',\n",
       "   'strIngredient4': 'Water',\n",
       "   'strIngredient5': None,\n",
       "   'strIngredient6': None,\n",
       "   'strIngredient7': None,\n",
       "   'strIngredient8': None,\n",
       "   'strIngredient9': None,\n",
       "   'strInstructions': 'Place sugar cube in old fashioned glass and saturate with bitters, add a dash of plain water. Muddle until dissolved.\\r\\nFill the glass with ice cubes and add whiskey.\\r\\n\\r\\nGarnish with orange twist, and a cocktail cherry.',\n",
       "   'strInstructionsDE': 'Zuckerwürfel in ein old fashioned Glas geben und mit Bitterstoff sättigen, einen Schuss Wasser hinzufügen. Vermischen, bis sie sich auflösen.',\n",
       "   'strInstructionsES': None,\n",
       "   'strInstructionsFR': None,\n",
       "   'strInstructionsZH-HANS': None,\n",
       "   'strInstructionsZH-HANT': None,\n",
       "   'strMeasure1': '4.5 cL',\n",
       "   'strMeasure10': None,\n",
       "   'strMeasure11': None,\n",
       "   'strMeasure12': None,\n",
       "   'strMeasure13': None,\n",
       "   'strMeasure14': None,\n",
       "   'strMeasure15': None,\n",
       "   'strMeasure2': '2 dashes',\n",
       "   'strMeasure3': '1 cube',\n",
       "   'strMeasure4': 'dash',\n",
       "   'strMeasure5': None,\n",
       "   'strMeasure6': None,\n",
       "   'strMeasure7': None,\n",
       "   'strMeasure8': None,\n",
       "   'strMeasure9': None,\n",
       "   'strTags': 'IBA,Classic,Alcoholic,Expensive',\n",
       "   'strVideo': None}]}"
      ]
     },
     "execution_count": 3,
     "metadata": {},
     "output_type": "execute_result"
    }
   ],
   "source": [
    "#Get data in JSON format from URL\n",
    "response = requests.get(df.loc[0][\"Field1\"]).json()\n",
    "response"
   ]
  },
  {
   "cell_type": "code",
   "execution_count": 4,
   "metadata": {
    "collapsed": false
   },
   "outputs": [],
   "source": [
    "info = response['drinks'][0]"
   ]
  },
  {
   "cell_type": "markdown",
   "metadata": {},
   "source": [
    "### Keep only ingredients and measures"
   ]
  },
  {
   "cell_type": "code",
   "execution_count": 5,
   "metadata": {
    "collapsed": false
   },
   "outputs": [
    {
     "data": {
      "text/plain": [
       "({'1': 'Bourbon', '2': 'Angostura bitters', '3': 'Sugar', '4': 'Water'},\n",
       " {'1': '4.5 cL', '2': '2 dashes', '3': '1 cube', '4': 'dash'})"
      ]
     },
     "execution_count": 5,
     "metadata": {},
     "output_type": "execute_result"
    }
   ],
   "source": [
    "# Use dict comprehension to create two new dictionaries\n",
    "# follows the syntax\n",
    "# new_dict = {key:value for (key, value) in old_dict.items() (+ optional conditions)}\n",
    "\n",
    "ingredients = {key.replace('strIngredient',''):value for (key,value) in info.items() \\\n",
    "               if \"Ingredient\" in key and value is not None}\n",
    "measures = {key.replace('strMeasure',''):value for (key,value) in info.items() \\\n",
    "            if \"Measure\" in key and value is not None}\n",
    "\n",
    "ingredients, measures"
   ]
  },
  {
   "cell_type": "code",
   "execution_count": 6,
   "metadata": {
    "collapsed": true
   },
   "outputs": [],
   "source": [
    "### Combine"
   ]
  },
  {
   "cell_type": "code",
   "execution_count": 7,
   "metadata": {
    "collapsed": false
   },
   "outputs": [
    {
     "data": {
      "text/html": [
       "<div>\n",
       "<table border=\"1\" class=\"dataframe\">\n",
       "  <thead>\n",
       "    <tr style=\"text-align: right;\">\n",
       "      <th></th>\n",
       "      <th>Ingredients</th>\n",
       "      <th>Measure</th>\n",
       "    </tr>\n",
       "  </thead>\n",
       "  <tbody>\n",
       "    <tr>\n",
       "      <th>1</th>\n",
       "      <td>Bourbon</td>\n",
       "      <td>4.5 cL</td>\n",
       "    </tr>\n",
       "    <tr>\n",
       "      <th>2</th>\n",
       "      <td>Angostura bitters</td>\n",
       "      <td>2 dashes</td>\n",
       "    </tr>\n",
       "    <tr>\n",
       "      <th>3</th>\n",
       "      <td>Sugar</td>\n",
       "      <td>1 cube</td>\n",
       "    </tr>\n",
       "    <tr>\n",
       "      <th>4</th>\n",
       "      <td>Water</td>\n",
       "      <td>dash</td>\n",
       "    </tr>\n",
       "  </tbody>\n",
       "</table>\n",
       "</div>"
      ],
      "text/plain": [
       "         Ingredients   Measure\n",
       "1            Bourbon    4.5 cL\n",
       "2  Angostura bitters  2 dashes\n",
       "3              Sugar    1 cube\n",
       "4              Water      dash"
      ]
     },
     "execution_count": 7,
     "metadata": {},
     "output_type": "execute_result"
    }
   ],
   "source": [
    "solution = pd.DataFrame([ingredients, measures]).T\n",
    "solution.columns = [\"Ingredients\", \"Measure\"]\n",
    "\n",
    "solution"
   ]
  },
  {
   "cell_type": "code",
   "execution_count": null,
   "metadata": {
    "collapsed": true
   },
   "outputs": [],
   "source": []
  }
 ],
 "metadata": {
  "anaconda-cloud": {},
  "kernelspec": {
   "display_name": "Python [default]",
   "language": "python",
   "name": "python3"
  },
  "language_info": {
   "codemirror_mode": {
    "name": "ipython",
    "version": 3
   },
   "file_extension": ".py",
   "mimetype": "text/x-python",
   "name": "python",
   "nbconvert_exporter": "python",
   "pygments_lexer": "ipython3",
   "version": "3.5.2"
  }
 },
 "nbformat": 4,
 "nbformat_minor": 4
}
