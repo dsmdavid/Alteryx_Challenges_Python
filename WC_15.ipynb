{
 "cells": [
  {
   "cell_type": "markdown",
   "metadata": {},
   "source": [
    "# Weekly Challenge 15\n",
    "\n",
    "*Original URL* https://community.alteryx.com/t5/Weekly-Challenge/Challenge-15-Warehouse-Shipped-Miles/td-p/36744 and [**My Alteryx Approach**](https://github.com/dsmdavid/Alteryx-Weekly-Challenge/tree/master/submitted/sub_Challenge%2315)\n",
    "\n",
    "## Brief\n",
    "Based on last week’s warehouse distribution exercise, we want to calculate the total shipped miles per item.  The products are available from 3 different warehouses. \n",
    "\n",
    "The objective is to find the total distance travelled (straight line miles) for each item based on it being shipped from the closest warehouse.  \n"
   ]
  },
  {
   "cell_type": "code",
   "execution_count": 1,
   "metadata": {
    "collapsed": true
   },
   "outputs": [],
   "source": [
    "import pandas as pd\n",
    "import os\n",
    "import numpy as np\n",
    "from geopy.distance import geodesic, great_circle, vincenty"
   ]
  },
  {
   "cell_type": "markdown",
   "metadata": {
    "slideshow": {
     "slide_type": "fragment"
    }
   },
   "source": [
    "## Approach I want to follow:\n",
    "1. Read the files, find the closest warehouse to each location.\n",
    "1. Multiply the distance times the number of items.\n",
    "1. Summarize."
   ]
  },
  {
   "cell_type": "markdown",
   "metadata": {},
   "source": [
    "## 1. Read and combine"
   ]
  },
  {
   "cell_type": "code",
   "execution_count": 2,
   "metadata": {
    "collapsed": true
   },
   "outputs": [],
   "source": [
    "#Read the files\n",
    "os.chdir(os.path.join(os.getcwd(), '15_files'))"
   ]
  },
  {
   "cell_type": "code",
   "execution_count": 3,
   "metadata": {
    "collapsed": false
   },
   "outputs": [
    {
     "data": {
      "text/plain": [
       "['01_storesPriority.csv',\n",
       " '02_assignedItems.csv',\n",
       " '15_solutions.csv',\n",
       " 'warehouseLocations.csv']"
      ]
     },
     "execution_count": 3,
     "metadata": {},
     "output_type": "execute_result"
    }
   ],
   "source": [
    "os.listdir()"
   ]
  },
  {
   "cell_type": "code",
   "execution_count": 4,
   "metadata": {
    "collapsed": true
   },
   "outputs": [],
   "source": [
    "#Load the data:\n",
    "input_dfStores = pd.read_csv(\"./01_storesPriority.csv\", encoding=\"latin\")     \n",
    "input_dfItems = pd.read_csv(\"./02_assignedItems.csv\", encoding = \"latin\")\n",
    "input_dfWarehouse = pd.read_csv(\"./warehouseLocations.csv\", encoding = \"latin\")"
   ]
  },
  {
   "cell_type": "code",
   "execution_count": 5,
   "metadata": {
    "collapsed": true
   },
   "outputs": [],
   "source": [
    "#Get LatLon points for distances:\n",
    "input_dfWarehouse['loc'] = input_dfWarehouse.apply(lambda row: (row['Lat'], row['Lon']), axis =1)\n",
    "input_dfStores['loc'] = input_dfStores.apply(lambda row: (row['Lat'], row['Lon']), axis =1)"
   ]
  },
  {
   "cell_type": "code",
   "execution_count": 6,
   "metadata": {
    "collapsed": false
   },
   "outputs": [
    {
     "data": {
      "text/html": [
       "<div>\n",
       "<style scoped>\n",
       "    .dataframe tbody tr th:only-of-type {\n",
       "        vertical-align: middle;\n",
       "    }\n",
       "\n",
       "    .dataframe tbody tr th {\n",
       "        vertical-align: top;\n",
       "    }\n",
       "\n",
       "    .dataframe thead th {\n",
       "        text-align: right;\n",
       "    }\n",
       "</style>\n",
       "<table border=\"1\" class=\"dataframe\">\n",
       "  <thead>\n",
       "    <tr style=\"text-align: right;\">\n",
       "      <th>Warehouse</th>\n",
       "      <th>Main</th>\n",
       "      <th>Second</th>\n",
       "      <th>Third</th>\n",
       "      <th>join</th>\n",
       "    </tr>\n",
       "  </thead>\n",
       "  <tbody>\n",
       "    <tr>\n",
       "      <td>loc</td>\n",
       "      <td>(34.737177, -86.603266)</td>\n",
       "      <td>(31.767002, -106.49205800000001)</td>\n",
       "      <td>(38.825775, -104.831478)</td>\n",
       "      <td>1</td>\n",
       "    </tr>\n",
       "  </tbody>\n",
       "</table>\n",
       "</div>"
      ],
      "text/plain": [
       "Warehouse                     Main                            Second  \\\n",
       "loc        (34.737177, -86.603266)  (31.767002, -106.49205800000001)   \n",
       "\n",
       "Warehouse                     Third  join  \n",
       "loc        (38.825775, -104.831478)     1  "
      ]
     },
     "execution_count": 6,
     "metadata": {},
     "output_type": "execute_result"
    }
   ],
   "source": [
    "# Transient\n",
    "temp = input_dfWarehouse[['Warehouse','loc']].transpose()\n",
    "temp.columns = temp.loc['Warehouse',:]\n",
    "temp.drop(labels='Warehouse', inplace=True)\n",
    "temp['join'] = 1\n",
    "temp"
   ]
  },
  {
   "cell_type": "code",
   "execution_count": 7,
   "metadata": {
    "collapsed": true
   },
   "outputs": [],
   "source": [
    "input_dfStores['join'] = 1\n",
    "\n",
    "new_df = input_dfStores.merge(temp, on='join')\n",
    "\n",
    "new_df.reset_index(drop=True, inplace=True)"
   ]
  },
  {
   "cell_type": "code",
   "execution_count": 8,
   "metadata": {
    "collapsed": true
   },
   "outputs": [],
   "source": [
    "def calc_distance(point1,point2):\n",
    "#    return vincenty(point1,point2).miles\n",
    "    return geodesic(point1,point2).miles\n",
    "#    return great_circle(point1, point2).miles\n",
    "\n",
    "\n",
    "def shorter_distance_to_warehouse(row):\n",
    "    return min([calc_distance(row['loc'],row[name]) for name in [\"Main\",\"Second\", \"Third\"]])"
   ]
  },
  {
   "cell_type": "code",
   "execution_count": 9,
   "metadata": {
    "collapsed": true
   },
   "outputs": [],
   "source": [
    "new_df['shorter_distance'] = new_df.apply(shorter_distance_to_warehouse, axis=1)"
   ]
  },
  {
   "cell_type": "code",
   "execution_count": 10,
   "metadata": {
    "collapsed": true
   },
   "outputs": [],
   "source": [
    "new_df = new_df[['Store', 'shorter_distance']]"
   ]
  },
  {
   "cell_type": "markdown",
   "metadata": {},
   "source": [
    "## Distance to closest warehouse"
   ]
  },
  {
   "cell_type": "code",
   "execution_count": 11,
   "metadata": {
    "collapsed": false
   },
   "outputs": [
    {
     "data": {
      "text/html": [
       "<div>\n",
       "<style scoped>\n",
       "    .dataframe tbody tr th:only-of-type {\n",
       "        vertical-align: middle;\n",
       "    }\n",
       "\n",
       "    .dataframe tbody tr th {\n",
       "        vertical-align: top;\n",
       "    }\n",
       "\n",
       "    .dataframe thead th {\n",
       "        text-align: right;\n",
       "    }\n",
       "</style>\n",
       "<table border=\"1\" class=\"dataframe\">\n",
       "  <thead>\n",
       "    <tr style=\"text-align: right;\">\n",
       "      <th></th>\n",
       "      <th>Store</th>\n",
       "      <th>shorter_distance</th>\n",
       "    </tr>\n",
       "  </thead>\n",
       "  <tbody>\n",
       "    <tr>\n",
       "      <td>0</td>\n",
       "      <td>A</td>\n",
       "      <td>623.173245</td>\n",
       "    </tr>\n",
       "    <tr>\n",
       "      <td>1</td>\n",
       "      <td>B</td>\n",
       "      <td>91.462267</td>\n",
       "    </tr>\n",
       "    <tr>\n",
       "      <td>2</td>\n",
       "      <td>C</td>\n",
       "      <td>1065.817190</td>\n",
       "    </tr>\n",
       "    <tr>\n",
       "      <td>3</td>\n",
       "      <td>D</td>\n",
       "      <td>559.448123</td>\n",
       "    </tr>\n",
       "    <tr>\n",
       "      <td>4</td>\n",
       "      <td>E</td>\n",
       "      <td>96.659644</td>\n",
       "    </tr>\n",
       "  </tbody>\n",
       "</table>\n",
       "</div>"
      ],
      "text/plain": [
       "  Store  shorter_distance\n",
       "0     A        623.173245\n",
       "1     B         91.462267\n",
       "2     C       1065.817190\n",
       "3     D        559.448123\n",
       "4     E         96.659644"
      ]
     },
     "execution_count": 11,
     "metadata": {},
     "output_type": "execute_result"
    }
   ],
   "source": [
    "new_df.head()"
   ]
  },
  {
   "cell_type": "markdown",
   "metadata": {},
   "source": [
    "# 2. Combine distance from warehouse with number of items"
   ]
  },
  {
   "cell_type": "code",
   "execution_count": 12,
   "metadata": {
    "collapsed": true
   },
   "outputs": [],
   "source": [
    "distances_df = input_dfItems.merge(new_df, on ='Store')\n",
    "\n",
    "distances_df['sumPerStore'] = distances_df['Assigned']*distances_df['shorter_distance']"
   ]
  },
  {
   "cell_type": "markdown",
   "metadata": {},
   "source": [
    "## 3. Summarize"
   ]
  },
  {
   "cell_type": "code",
   "execution_count": 13,
   "metadata": {
    "collapsed": false
   },
   "outputs": [
    {
     "data": {
      "text/plain": [
       "Item\n",
       "1     468252.136867\n",
       "2     521754.915047\n",
       "3     419114.863699\n",
       "4     472036.061198\n",
       "5     613912.020098\n",
       "6     338841.852195\n",
       "7     654964.615885\n",
       "8     465743.921370\n",
       "9     386097.719547\n",
       "10    386261.377667\n",
       "Name: sumPerStore, dtype: float64"
      ]
     },
     "execution_count": 13,
     "metadata": {},
     "output_type": "execute_result"
    }
   ],
   "source": [
    "test = distances_df.groupby(by='Item').sum()['sumPerStore']\n",
    "test"
   ]
  },
  {
   "cell_type": "markdown",
   "metadata": {},
   "source": [
    "## 4. Compare to existing results"
   ]
  },
  {
   "cell_type": "code",
   "execution_count": 14,
   "metadata": {
    "collapsed": false
   },
   "outputs": [
    {
     "data": {
      "text/html": [
       "<div>\n",
       "<style scoped>\n",
       "    .dataframe tbody tr th:only-of-type {\n",
       "        vertical-align: middle;\n",
       "    }\n",
       "\n",
       "    .dataframe tbody tr th {\n",
       "        vertical-align: top;\n",
       "    }\n",
       "\n",
       "    .dataframe thead th {\n",
       "        text-align: right;\n",
       "    }\n",
       "</style>\n",
       "<table border=\"1\" class=\"dataframe\">\n",
       "  <thead>\n",
       "    <tr style=\"text-align: right;\">\n",
       "      <th></th>\n",
       "      <th>Item</th>\n",
       "      <th>TotalMiles</th>\n",
       "      <th>sumPerStore</th>\n",
       "      <th>Diff</th>\n",
       "    </tr>\n",
       "  </thead>\n",
       "  <tbody>\n",
       "    <tr>\n",
       "      <td>0</td>\n",
       "      <td>1</td>\n",
       "      <td>467764.318078</td>\n",
       "      <td>468252.136867</td>\n",
       "      <td>-487.818788</td>\n",
       "    </tr>\n",
       "    <tr>\n",
       "      <td>1</td>\n",
       "      <td>2</td>\n",
       "      <td>520950.356459</td>\n",
       "      <td>521754.915047</td>\n",
       "      <td>-804.558587</td>\n",
       "    </tr>\n",
       "    <tr>\n",
       "      <td>2</td>\n",
       "      <td>3</td>\n",
       "      <td>418529.434085</td>\n",
       "      <td>419114.863699</td>\n",
       "      <td>-585.429614</td>\n",
       "    </tr>\n",
       "    <tr>\n",
       "      <td>3</td>\n",
       "      <td>4</td>\n",
       "      <td>471483.324599</td>\n",
       "      <td>472036.061198</td>\n",
       "      <td>-552.736599</td>\n",
       "    </tr>\n",
       "    <tr>\n",
       "      <td>4</td>\n",
       "      <td>5</td>\n",
       "      <td>613089.857982</td>\n",
       "      <td>613912.020098</td>\n",
       "      <td>-822.162116</td>\n",
       "    </tr>\n",
       "    <tr>\n",
       "      <td>5</td>\n",
       "      <td>6</td>\n",
       "      <td>338432.743812</td>\n",
       "      <td>338841.852195</td>\n",
       "      <td>-409.108383</td>\n",
       "    </tr>\n",
       "    <tr>\n",
       "      <td>6</td>\n",
       "      <td>7</td>\n",
       "      <td>654162.976293</td>\n",
       "      <td>654964.615885</td>\n",
       "      <td>-801.639592</td>\n",
       "    </tr>\n",
       "    <tr>\n",
       "      <td>7</td>\n",
       "      <td>8</td>\n",
       "      <td>465070.542813</td>\n",
       "      <td>465743.921370</td>\n",
       "      <td>-673.378557</td>\n",
       "    </tr>\n",
       "    <tr>\n",
       "      <td>8</td>\n",
       "      <td>9</td>\n",
       "      <td>385441.880195</td>\n",
       "      <td>386097.719547</td>\n",
       "      <td>-655.839351</td>\n",
       "    </tr>\n",
       "    <tr>\n",
       "      <td>9</td>\n",
       "      <td>10</td>\n",
       "      <td>385761.522225</td>\n",
       "      <td>386261.377667</td>\n",
       "      <td>-499.855442</td>\n",
       "    </tr>\n",
       "  </tbody>\n",
       "</table>\n",
       "</div>"
      ],
      "text/plain": [
       "   Item     TotalMiles    sumPerStore        Diff\n",
       "0     1  467764.318078  468252.136867 -487.818788\n",
       "1     2  520950.356459  521754.915047 -804.558587\n",
       "2     3  418529.434085  419114.863699 -585.429614\n",
       "3     4  471483.324599  472036.061198 -552.736599\n",
       "4     5  613089.857982  613912.020098 -822.162116\n",
       "5     6  338432.743812  338841.852195 -409.108383\n",
       "6     7  654162.976293  654964.615885 -801.639592\n",
       "7     8  465070.542813  465743.921370 -673.378557\n",
       "8     9  385441.880195  386097.719547 -655.839351\n",
       "9    10  385761.522225  386261.377667 -499.855442"
      ]
     },
     "execution_count": 14,
     "metadata": {},
     "output_type": "execute_result"
    }
   ],
   "source": [
    "\n",
    "#Load existing results\n",
    "solution_df = pd.read_csv(\"./15_solutions.csv\", encoding = \"latin\")\n",
    "solution_df.set_index('Item')\n",
    "\n",
    "solution_df = solution_df.join(test, on='Item')\n",
    "solution_df['Diff'] = solution_df['TotalMiles'] - solution_df['sumPerStore']\n",
    "solution_df"
   ]
  },
  {
   "cell_type": "code",
   "execution_count": 15,
   "metadata": {
    "collapsed": true
   },
   "outputs": [],
   "source": [
    "# The results are closed, but not the same, due to the differences in the distance calculation between Alteryx & geopy"
   ]
  },
  {
   "cell_type": "code",
   "execution_count": null,
   "metadata": {
    "collapsed": true
   },
   "outputs": [],
   "source": []
  }
 ],
 "metadata": {
  "anaconda-cloud": {},
  "kernelspec": {
   "display_name": "Python [default]",
   "language": "python",
   "name": "python3"
  },
  "language_info": {
   "codemirror_mode": {
    "name": "ipython",
    "version": 3
   },
   "file_extension": ".py",
   "mimetype": "text/x-python",
   "name": "python",
   "nbconvert_exporter": "python",
   "pygments_lexer": "ipython3",
   "version": "3.5.2"
  }
 },
 "nbformat": 4,
 "nbformat_minor": 2
}
