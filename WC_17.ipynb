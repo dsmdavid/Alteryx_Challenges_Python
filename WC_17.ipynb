{
 "cells": [
  {
   "cell_type": "markdown",
   "metadata": {},
   "source": [
    "# Weekly Challenge 17\n",
    "\n",
    "*Original URL* https://community.alteryx.com/t5/Weekly-Challenge/Challenge-17-Month-over-Month-Retention-Rate/td-p/36746 and [**My Alteryx Approach**](https://github.com/dsmdavid/Alteryx-Weekly-Challenge/tree/master/submitted/sub_Challenge%2317)\n",
    "\n",
    "## Brief\n",
    "A bank is looking to calculate customer retention rate month over month. The denominator in the calculation are all of the accounts open 24 months prior to the start of the month. For example, for June 2013, the denominator would be the total number of accounts open between June 1, 2011 through May 31, 2013. The numerator will be total number of accounts closed in June 2013 or between June 1, 2013 through June 30, 2013.\n",
    "\n",
    "The objective is to create a batch macro that calculates the retention rate for May, June, July and August.\n"
   ]
  },
  {
   "cell_type": "code",
   "execution_count": 1,
   "metadata": {
    "collapsed": true
   },
   "outputs": [],
   "source": [
    "import pandas as pd\n",
    "import os"
   ]
  },
  {
   "cell_type": "markdown",
   "metadata": {
    "slideshow": {
     "slide_type": "fragment"
    }
   },
   "source": [
    "## Approach I want to follow:\n",
    "1. Read the input, truncate dates.  \n",
    "1. Count accounts opened/closed per month, calculate running total and ratio as instructed."
   ]
  },
  {
   "cell_type": "markdown",
   "metadata": {},
   "source": [
    "## 1. Read and combine"
   ]
  },
  {
   "cell_type": "code",
   "execution_count": 2,
   "metadata": {
    "collapsed": false
   },
   "outputs": [],
   "source": [
    "#Read the files\n",
    "os.chdir(os.path.join(os.getcwd(), '17_files'))"
   ]
  },
  {
   "cell_type": "code",
   "execution_count": 3,
   "metadata": {
    "collapsed": false
   },
   "outputs": [],
   "source": [
    "#Load the data:\n",
    "input_df = pd.read_csv(\"./01_input.csv\",\n",
    "                       encoding=\"latin\",\n",
    "                       parse_dates=['Open Date', 'Close Date'])     \n"
   ]
  },
  {
   "cell_type": "code",
   "execution_count": 4,
   "metadata": {
    "collapsed": false
   },
   "outputs": [
    {
     "data": {
      "text/html": [
       "<div>\n",
       "<table border=\"1\" class=\"dataframe\">\n",
       "  <thead>\n",
       "    <tr style=\"text-align: right;\">\n",
       "      <th></th>\n",
       "      <th>RecordID</th>\n",
       "      <th>Open Date</th>\n",
       "      <th>Close Date</th>\n",
       "    </tr>\n",
       "  </thead>\n",
       "  <tbody>\n",
       "    <tr>\n",
       "      <th>0</th>\n",
       "      <td>1</td>\n",
       "      <td>2013-04-03</td>\n",
       "      <td>2013-05-06</td>\n",
       "    </tr>\n",
       "    <tr>\n",
       "      <th>1</th>\n",
       "      <td>2</td>\n",
       "      <td>2013-04-14</td>\n",
       "      <td>NaT</td>\n",
       "    </tr>\n",
       "    <tr>\n",
       "      <th>2</th>\n",
       "      <td>3</td>\n",
       "      <td>2013-05-03</td>\n",
       "      <td>2013-07-18</td>\n",
       "    </tr>\n",
       "    <tr>\n",
       "      <th>3</th>\n",
       "      <td>4</td>\n",
       "      <td>2013-05-24</td>\n",
       "      <td>2013-06-12</td>\n",
       "    </tr>\n",
       "    <tr>\n",
       "      <th>4</th>\n",
       "      <td>5</td>\n",
       "      <td>2013-06-13</td>\n",
       "      <td>2013-07-10</td>\n",
       "    </tr>\n",
       "    <tr>\n",
       "      <th>5</th>\n",
       "      <td>6</td>\n",
       "      <td>2013-06-26</td>\n",
       "      <td>NaT</td>\n",
       "    </tr>\n",
       "    <tr>\n",
       "      <th>6</th>\n",
       "      <td>7</td>\n",
       "      <td>2013-07-04</td>\n",
       "      <td>NaT</td>\n",
       "    </tr>\n",
       "    <tr>\n",
       "      <th>7</th>\n",
       "      <td>8</td>\n",
       "      <td>2013-07-15</td>\n",
       "      <td>2013-08-09</td>\n",
       "    </tr>\n",
       "    <tr>\n",
       "      <th>8</th>\n",
       "      <td>9</td>\n",
       "      <td>2013-07-21</td>\n",
       "      <td>NaT</td>\n",
       "    </tr>\n",
       "    <tr>\n",
       "      <th>9</th>\n",
       "      <td>10</td>\n",
       "      <td>2013-08-13</td>\n",
       "      <td>NaT</td>\n",
       "    </tr>\n",
       "  </tbody>\n",
       "</table>\n",
       "</div>"
      ],
      "text/plain": [
       "   RecordID  Open Date Close Date\n",
       "0         1 2013-04-03 2013-05-06\n",
       "1         2 2013-04-14        NaT\n",
       "2         3 2013-05-03 2013-07-18\n",
       "3         4 2013-05-24 2013-06-12\n",
       "4         5 2013-06-13 2013-07-10\n",
       "5         6 2013-06-26        NaT\n",
       "6         7 2013-07-04        NaT\n",
       "7         8 2013-07-15 2013-08-09\n",
       "8         9 2013-07-21        NaT\n",
       "9        10 2013-08-13        NaT"
      ]
     },
     "execution_count": 4,
     "metadata": {},
     "output_type": "execute_result"
    }
   ],
   "source": [
    "input_df"
   ]
  },
  {
   "cell_type": "code",
   "execution_count": 5,
   "metadata": {
    "collapsed": true
   },
   "outputs": [],
   "source": [
    "# Truncate Dates to first of month\n",
    "input_df['OpenMonth'] = input_df['Open Date'].apply(lambda x: x.replace(day =1))\n",
    "input_df['CloseMonth'] = input_df['Close Date'].apply(lambda x: x.replace(day =1))"
   ]
  },
  {
   "cell_type": "markdown",
   "metadata": {},
   "source": [
    "## 2. Count and summarize"
   ]
  },
  {
   "cell_type": "code",
   "execution_count": 6,
   "metadata": {
    "collapsed": false
   },
   "outputs": [],
   "source": [
    "# Summarize accounts by month open and month close\n",
    "opened = input_df.groupby(by='OpenMonth')['RecordID'].count()\n",
    "closed = input_df.groupby(by='CloseMonth')['RecordID'].count()"
   ]
  },
  {
   "cell_type": "code",
   "execution_count": 7,
   "metadata": {
    "collapsed": false
   },
   "outputs": [],
   "source": [
    "# Combine the two summarizes and calculate the running total, as well as the numerator, denominator and ratio as instructed\n",
    "agg_df = pd.DataFrame([opened, closed]).T\n",
    "agg_df.columns = ['Opened', 'Closed']\n",
    "agg_df.fillna(0, inplace=True)\n",
    "# Change in accounts that remain opened per month\n",
    "agg_df['monthlyDelta'] = agg_df['Opened'] - agg_df['Closed']\n",
    "# Total number of accounts opened at the end of the month\n",
    "agg_df['Running'] = agg_df['monthlyDelta'].cumsum()\n",
    "agg_df['AccountsEOPM'] = agg_df['Running'] - agg_df['monthlyDelta']\n",
    "agg_df['ratio'] = agg_df['Closed'] / agg_df['AccountsEOPM']"
   ]
  },
  {
   "cell_type": "code",
   "execution_count": 8,
   "metadata": {
    "collapsed": false
   },
   "outputs": [
    {
     "data": {
      "text/html": [
       "<div>\n",
       "<table border=\"1\" class=\"dataframe\">\n",
       "  <thead>\n",
       "    <tr style=\"text-align: right;\">\n",
       "      <th></th>\n",
       "      <th>Opened</th>\n",
       "      <th>Closed</th>\n",
       "      <th>ratio</th>\n",
       "    </tr>\n",
       "  </thead>\n",
       "  <tbody>\n",
       "    <tr>\n",
       "      <th>2013-04-01</th>\n",
       "      <td>2.0</td>\n",
       "      <td>0.0</td>\n",
       "      <td>NaN</td>\n",
       "    </tr>\n",
       "    <tr>\n",
       "      <th>2013-05-01</th>\n",
       "      <td>2.0</td>\n",
       "      <td>1.0</td>\n",
       "      <td>0.500000</td>\n",
       "    </tr>\n",
       "    <tr>\n",
       "      <th>2013-06-01</th>\n",
       "      <td>2.0</td>\n",
       "      <td>1.0</td>\n",
       "      <td>0.333333</td>\n",
       "    </tr>\n",
       "    <tr>\n",
       "      <th>2013-07-01</th>\n",
       "      <td>3.0</td>\n",
       "      <td>2.0</td>\n",
       "      <td>0.500000</td>\n",
       "    </tr>\n",
       "    <tr>\n",
       "      <th>2013-08-01</th>\n",
       "      <td>1.0</td>\n",
       "      <td>1.0</td>\n",
       "      <td>0.200000</td>\n",
       "    </tr>\n",
       "  </tbody>\n",
       "</table>\n",
       "</div>"
      ],
      "text/plain": [
       "            Opened  Closed     ratio\n",
       "2013-04-01     2.0     0.0       NaN\n",
       "2013-05-01     2.0     1.0  0.500000\n",
       "2013-06-01     2.0     1.0  0.333333\n",
       "2013-07-01     3.0     2.0  0.500000\n",
       "2013-08-01     1.0     1.0  0.200000"
      ]
     },
     "execution_count": 8,
     "metadata": {},
     "output_type": "execute_result"
    }
   ],
   "source": [
    "solution = agg_df[['Opened', 'Closed','ratio']]\n",
    "solution"
   ]
  },
  {
   "cell_type": "markdown",
   "metadata": {},
   "source": [
    "I reckon I deviate slightly from the original challenge, that required a batch macro to process the given months, but this seems a simpler solution that achieves the same result."
   ]
  },
  {
   "cell_type": "code",
   "execution_count": null,
   "metadata": {
    "collapsed": true
   },
   "outputs": [],
   "source": []
  }
 ],
 "metadata": {
  "anaconda-cloud": {},
  "kernelspec": {
   "display_name": "Python [default]",
   "language": "python",
   "name": "python3"
  },
  "language_info": {
   "codemirror_mode": {
    "name": "ipython",
    "version": 3
   },
   "file_extension": ".py",
   "mimetype": "text/x-python",
   "name": "python",
   "nbconvert_exporter": "python",
   "pygments_lexer": "ipython3",
   "version": "3.5.2"
  }
 },
 "nbformat": 4,
 "nbformat_minor": 2
}
