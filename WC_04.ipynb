{
 "cells": [
  {
   "cell_type": "markdown",
   "metadata": {},
   "source": [
    "# Weekly Challenge 04\n",
    "\n",
    "*Original URL* https://community.alteryx.com/t5/Weekly-Challenge/Challenge-4-Date-Parsing/td-p/36731 and [**My Alteryx Approach**](https://github.com/dsmdavid/Alteryx-Weekly-Challenge/tree/master/submitted/sub_Challenge%2304)\n",
    "\n",
    "## Brief\n",
    "\n",
    "A dataset contains a text field that has a date embedded within the text. The problem is that the date is represented a few different ways. For example:\n",
    "\n",
    "*\t16-APR-2005  \n",
    "*\tNov•16,•1900  \n",
    "*\t4-SEP-00  \n",
    "*\tJan•5•2000  \n",
    "\n",
    "The goal is to create a new Date/Time field populated with the dates contained within the text field. You will also need to standardize the dates so that they are all formatted the same.\n"
   ]
  },
  {
   "cell_type": "code",
   "execution_count": 1,
   "metadata": {
    "collapsed": true
   },
   "outputs": [],
   "source": [
    "import pandas as pd\n",
    "import re #regex module\n",
    "from datetime import date\n",
    "from dateutil.relativedelta import relativedelta"
   ]
  },
  {
   "cell_type": "markdown",
   "metadata": {},
   "source": [
    "## Approach I want to follow:\n",
    "1. Read the data.\n",
    "1. Create a function to parse the dates.\n",
    "1. Apply the function to create a new column."
   ]
  },
  {
   "cell_type": "code",
   "execution_count": 2,
   "metadata": {
    "collapsed": true
   },
   "outputs": [],
   "source": [
    "#Read the dataframe\n",
    "df = pd.read_csv(\"./04_files/input.csv\")"
   ]
  },
  {
   "cell_type": "code",
   "execution_count": 3,
   "metadata": {
    "collapsed": true
   },
   "outputs": [],
   "source": [
    "def getDates(string):\n",
    "    '''Processes the string and extracts the two potential patterns for the dates\n",
    "    Pattern 1: r'\\d+[-\\s]\\w+[-\\s]\\d{2,4}' should match: 16-APR-2005 and 4-SEP-00\n",
    "    Pattern 2: r'\\w*[\\s\\d,]*\\d{4}' should match: Nov•16,•1900 and Jan•5•2000\n",
    "    and then converts them to dates\n",
    "    '''\n",
    "    \n",
    "    patterns = [r'\\d+[-\\s]\\w+[-\\s]\\d{2,4}',\n",
    "                r'\\w*[\\s\\d,]*\\d{4}'\n",
    "               ]\n",
    "    \n",
    "    for pat in patterns:\n",
    "        if re.search(pat,string): #re.search returns an object that is True if there is a match\n",
    "            return pd.to_datetime(re.search(pat,string).group(0)) #Use the pandas \"to_datetime\" to convert the entire regex match\n",
    "                                                                # that is stored in the group 0 "
   ]
  },
  {
   "cell_type": "code",
   "execution_count": 4,
   "metadata": {
    "collapsed": true
   },
   "outputs": [],
   "source": [
    "df['Date'] = df.Field_1.apply(getDates)"
   ]
  },
  {
   "cell_type": "code",
   "execution_count": 5,
   "metadata": {},
   "outputs": [
    {
     "output_type": "execute_result",
     "data": {
      "text/plain": [
       "                                             Field_1       Date\n",
       "0  He who sleeps on the floor will not fall off t... 2005-04-16\n",
       "1  After all is said and done, more is said than ... 1856-01-09\n",
       "2  I want to see you shoot the way you shoutTeddy... 1900-11-16\n",
       "3  get someone else to do it.15-APR-1944This reco... 1944-04-15\n",
       "4  Why do they call it rush hour when nothing mov... 1970-06-27"
      ],
      "text/html": "<div>\n<style scoped>\n    .dataframe tbody tr th:only-of-type {\n        vertical-align: middle;\n    }\n\n    .dataframe tbody tr th {\n        vertical-align: top;\n    }\n\n    .dataframe thead th {\n        text-align: right;\n    }\n</style>\n<table border=\"1\" class=\"dataframe\">\n  <thead>\n    <tr style=\"text-align: right;\">\n      <th></th>\n      <th>Field_1</th>\n      <th>Date</th>\n    </tr>\n  </thead>\n  <tbody>\n    <tr>\n      <th>0</th>\n      <td>He who sleeps on the floor will not fall off t...</td>\n      <td>2005-04-16</td>\n    </tr>\n    <tr>\n      <th>1</th>\n      <td>After all is said and done, more is said than ...</td>\n      <td>1856-01-09</td>\n    </tr>\n    <tr>\n      <th>2</th>\n      <td>I want to see you shoot the way you shoutTeddy...</td>\n      <td>1900-11-16</td>\n    </tr>\n    <tr>\n      <th>3</th>\n      <td>get someone else to do it.15-APR-1944This reco...</td>\n      <td>1944-04-15</td>\n    </tr>\n    <tr>\n      <th>4</th>\n      <td>Why do they call it rush hour when nothing mov...</td>\n      <td>1970-06-27</td>\n    </tr>\n  </tbody>\n</table>\n</div>"
     },
     "metadata": {},
     "execution_count": 5
    }
   ],
   "source": [
    "df.head()"
   ]
  },
  {
   "cell_type": "code",
   "execution_count": 6,
   "metadata": {},
   "outputs": [
    {
     "output_type": "execute_result",
     "data": {
      "text/plain": [
       "Timestamp('2069-09-16 00:00:00')"
      ]
     },
     "metadata": {},
     "execution_count": 6
    }
   ],
   "source": [
    "# Year should be 1969 instead of 2069\n",
    "df['Date'].iloc[11]"
   ]
  },
  {
   "cell_type": "code",
   "execution_count": 7,
   "metadata": {},
   "outputs": [],
   "source": [
    "def correct_year(date_col):\n",
    "    \"\"\"If the year is greater than the current year, the date should be in the previous century\"\"\"\n",
    "    \n",
    "    year_today = date.today().year\n",
    "    if date_col.year > year_today:\n",
    "        return date_col - relativedelta(years=100)\n",
    "    else:\n",
    "        return date_col"
   ]
  },
  {
   "cell_type": "code",
   "execution_count": 8,
   "metadata": {},
   "outputs": [
    {
     "output_type": "execute_result",
     "data": {
      "text/plain": [
       "                                             Field_1       Date\n",
       "0  He who sleeps on the floor will not fall off t... 2005-04-16\n",
       "1  After all is said and done, more is said than ... 1856-01-09\n",
       "2  I want to see you shoot the way you shoutTeddy... 1900-11-16\n",
       "3  get someone else to do it.15-APR-1944This reco... 1944-04-15\n",
       "4  Why do they call it rush hour when nothing mov... 1970-06-27"
      ],
      "text/html": "<div>\n<style scoped>\n    .dataframe tbody tr th:only-of-type {\n        vertical-align: middle;\n    }\n\n    .dataframe tbody tr th {\n        vertical-align: top;\n    }\n\n    .dataframe thead th {\n        text-align: right;\n    }\n</style>\n<table border=\"1\" class=\"dataframe\">\n  <thead>\n    <tr style=\"text-align: right;\">\n      <th></th>\n      <th>Field_1</th>\n      <th>Date</th>\n    </tr>\n  </thead>\n  <tbody>\n    <tr>\n      <th>0</th>\n      <td>He who sleeps on the floor will not fall off t...</td>\n      <td>2005-04-16</td>\n    </tr>\n    <tr>\n      <th>1</th>\n      <td>After all is said and done, more is said than ...</td>\n      <td>1856-01-09</td>\n    </tr>\n    <tr>\n      <th>2</th>\n      <td>I want to see you shoot the way you shoutTeddy...</td>\n      <td>1900-11-16</td>\n    </tr>\n    <tr>\n      <th>3</th>\n      <td>get someone else to do it.15-APR-1944This reco...</td>\n      <td>1944-04-15</td>\n    </tr>\n    <tr>\n      <th>4</th>\n      <td>Why do they call it rush hour when nothing mov...</td>\n      <td>1970-06-27</td>\n    </tr>\n  </tbody>\n</table>\n</div>"
     },
     "metadata": {},
     "execution_count": 8
    }
   ],
   "source": [
    "df['Date'] = df['Date'].apply(correct_year)\n",
    "df.head()"
   ]
  },
  {
   "cell_type": "code",
   "execution_count": 9,
   "metadata": {},
   "outputs": [
    {
     "output_type": "execute_result",
     "data": {
      "text/plain": [
       "Timestamp('1969-09-16 00:00:00')"
      ]
     },
     "metadata": {},
     "execution_count": 9
    }
   ],
   "source": [
    "df['Date'].iloc[11]"
   ]
  },
  {
   "cell_type": "markdown",
   "metadata": {},
   "source": [
    "## No differences with the Alteryx Solution:"
   ]
  },
  {
   "cell_type": "code",
   "execution_count": 10,
   "metadata": {
    "collapsed": true
   },
   "outputs": [],
   "source": [
    "alteryx = pd.read_csv('./04_files/output_alteryx.csv', parse_dates=[1])"
   ]
  },
  {
   "cell_type": "code",
   "execution_count": 11,
   "metadata": {},
   "outputs": [
    {
     "output_type": "execute_result",
     "data": {
      "text/plain": [
       "                                             Field_1 DateTime_Out\n",
       "0  He who sleeps on the floor will not fall off t...   2005-04-16\n",
       "1  After all is said and done, more is said than ...   1856-01-09\n",
       "2  I want to see you shoot the way you shoutTeddy...   1900-11-16\n",
       "3  get someone else to do it.15-APR-1944This reco...   1944-04-15\n",
       "4  Why do they call it rush hour when nothing mov...   1970-06-27"
      ],
      "text/html": "<div>\n<style scoped>\n    .dataframe tbody tr th:only-of-type {\n        vertical-align: middle;\n    }\n\n    .dataframe tbody tr th {\n        vertical-align: top;\n    }\n\n    .dataframe thead th {\n        text-align: right;\n    }\n</style>\n<table border=\"1\" class=\"dataframe\">\n  <thead>\n    <tr style=\"text-align: right;\">\n      <th></th>\n      <th>Field_1</th>\n      <th>DateTime_Out</th>\n    </tr>\n  </thead>\n  <tbody>\n    <tr>\n      <th>0</th>\n      <td>He who sleeps on the floor will not fall off t...</td>\n      <td>2005-04-16</td>\n    </tr>\n    <tr>\n      <th>1</th>\n      <td>After all is said and done, more is said than ...</td>\n      <td>1856-01-09</td>\n    </tr>\n    <tr>\n      <th>2</th>\n      <td>I want to see you shoot the way you shoutTeddy...</td>\n      <td>1900-11-16</td>\n    </tr>\n    <tr>\n      <th>3</th>\n      <td>get someone else to do it.15-APR-1944This reco...</td>\n      <td>1944-04-15</td>\n    </tr>\n    <tr>\n      <th>4</th>\n      <td>Why do they call it rush hour when nothing mov...</td>\n      <td>1970-06-27</td>\n    </tr>\n  </tbody>\n</table>\n</div>"
     },
     "metadata": {},
     "execution_count": 11
    }
   ],
   "source": [
    "alteryx.head()"
   ]
  },
  {
   "cell_type": "code",
   "execution_count": 12,
   "metadata": {
    "collapsed": true
   },
   "outputs": [],
   "source": [
    "test = pd.merge(df,alteryx)"
   ]
  },
  {
   "cell_type": "code",
   "execution_count": 13,
   "metadata": {},
   "outputs": [
    {
     "output_type": "execute_result",
     "data": {
      "text/plain": [
       "                                             Field_1       Date DateTime_Out\n",
       "0  He who sleeps on the floor will not fall off t... 2005-04-16   2005-04-16\n",
       "1  After all is said and done, more is said than ... 1856-01-09   1856-01-09\n",
       "2  I want to see you shoot the way you shoutTeddy... 1900-11-16   1900-11-16\n",
       "3  get someone else to do it.15-APR-1944This reco... 1944-04-15   1944-04-15\n",
       "4  Why do they call it rush hour when nothing mov... 1970-06-27   1970-06-27"
      ],
      "text/html": "<div>\n<style scoped>\n    .dataframe tbody tr th:only-of-type {\n        vertical-align: middle;\n    }\n\n    .dataframe tbody tr th {\n        vertical-align: top;\n    }\n\n    .dataframe thead th {\n        text-align: right;\n    }\n</style>\n<table border=\"1\" class=\"dataframe\">\n  <thead>\n    <tr style=\"text-align: right;\">\n      <th></th>\n      <th>Field_1</th>\n      <th>Date</th>\n      <th>DateTime_Out</th>\n    </tr>\n  </thead>\n  <tbody>\n    <tr>\n      <th>0</th>\n      <td>He who sleeps on the floor will not fall off t...</td>\n      <td>2005-04-16</td>\n      <td>2005-04-16</td>\n    </tr>\n    <tr>\n      <th>1</th>\n      <td>After all is said and done, more is said than ...</td>\n      <td>1856-01-09</td>\n      <td>1856-01-09</td>\n    </tr>\n    <tr>\n      <th>2</th>\n      <td>I want to see you shoot the way you shoutTeddy...</td>\n      <td>1900-11-16</td>\n      <td>1900-11-16</td>\n    </tr>\n    <tr>\n      <th>3</th>\n      <td>get someone else to do it.15-APR-1944This reco...</td>\n      <td>1944-04-15</td>\n      <td>1944-04-15</td>\n    </tr>\n    <tr>\n      <th>4</th>\n      <td>Why do they call it rush hour when nothing mov...</td>\n      <td>1970-06-27</td>\n      <td>1970-06-27</td>\n    </tr>\n  </tbody>\n</table>\n</div>"
     },
     "metadata": {},
     "execution_count": 13
    }
   ],
   "source": [
    "test.head()"
   ]
  },
  {
   "cell_type": "code",
   "execution_count": 14,
   "metadata": {},
   "outputs": [
    {
     "output_type": "execute_result",
     "data": {
      "text/plain": [
       "Empty DataFrame\n",
       "Columns: [Field_1, Date, DateTime_Out]\n",
       "Index: []"
      ],
      "text/html": "<div>\n<style scoped>\n    .dataframe tbody tr th:only-of-type {\n        vertical-align: middle;\n    }\n\n    .dataframe tbody tr th {\n        vertical-align: top;\n    }\n\n    .dataframe thead th {\n        text-align: right;\n    }\n</style>\n<table border=\"1\" class=\"dataframe\">\n  <thead>\n    <tr style=\"text-align: right;\">\n      <th></th>\n      <th>Field_1</th>\n      <th>Date</th>\n      <th>DateTime_Out</th>\n    </tr>\n  </thead>\n  <tbody>\n  </tbody>\n</table>\n</div>"
     },
     "metadata": {},
     "execution_count": 14
    }
   ],
   "source": [
    "test[test['Date'] != test['DateTime_Out']]"
   ]
  }
 ],
 "metadata": {
  "kernelspec": {
   "display_name": "Python 3",
   "language": "python",
   "name": "python3"
  },
  "language_info": {
   "codemirror_mode": {
    "name": "ipython",
    "version": 3
   },
   "file_extension": ".py",
   "mimetype": "text/x-python",
   "name": "python",
   "nbconvert_exporter": "python",
   "pygments_lexer": "ipython3",
   "version": "3.8.5-final"
  }
 },
 "nbformat": 4,
 "nbformat_minor": 2
}