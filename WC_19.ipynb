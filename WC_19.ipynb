{
 "cells": [
  {
   "cell_type": "markdown",
   "metadata": {},
   "source": [
    "# Weekly Challenge 19\n",
    "\n",
    "*Original URL* https://community.alteryx.com/t5/Weekly-Challenge/Challenge-19-Excel-Record-Locator/td-p/36748 and [**My Alteryx Approach**](https://github.com/dsmdavid/Alteryx-Weekly-Challenge/tree/master/submitted/sub_Challenge%2319)\n",
    "\n",
    "## Brief\n",
    "Use Case: Customer has 100's of xls files with 1 common sheet available in all workbooks. Through one process, the user would like to read across all of the xls files and return the values contained in specific cells - Row 2, Column 3 and Row 8, Column 2 for each sheet within each XLS workbook.\n",
    "\n",
    "\n",
    "The result should be a table OR browse tool containing 3 columns: XLS File, Row2_ Column3, and Row8_Column2.\n",
    "\n",
    "\n",
    "You will only have 2 xls files for this challenge, Book1 and Book2, but keep in mind that the use case is for 100s of Excel files with the same schema.  You won’t want to use 2 input tools since that would not scale to 100’s.  Also, for all data consumption, please check the box for First Row Contains Data.  This is because in the headers for an Excel file are in row #1.\n",
    "\n",
    "\n",
    "Good luck and keep it simple, this should be an easy challenge!"
   ]
  },
  {
   "cell_type": "code",
   "execution_count": 1,
   "metadata": {
    "collapsed": true
   },
   "outputs": [],
   "source": [
    "import pandas as pd\n",
    "import os\n",
    "from glob import glob\n"
   ]
  },
  {
   "cell_type": "code",
   "execution_count": 2,
   "metadata": {
    "collapsed": true
   },
   "outputs": [],
   "source": [
    "# INPUTS:\n",
    "# What are the combinations needed -- converted to 0 indexed\n",
    "RESULTS_NEEDED = [(1,2),(7,1)]"
   ]
  },
  {
   "cell_type": "markdown",
   "metadata": {
    "slideshow": {
     "slide_type": "fragment"
    }
   },
   "source": [
    "## Approach I want to follow:\n",
    "1. Create a function to return any Row & Column combination from a df as a dictionary.  \n",
    "1. List and process files to read.  \n",
    "1. Count accounts opened/closed per month, calculate running total and ratio as instructed."
   ]
  },
  {
   "cell_type": "markdown",
   "metadata": {},
   "source": [
    "## 1. Create a function to read any row/column combination with headers:"
   ]
  },
  {
   "cell_type": "code",
   "execution_count": 3,
   "metadata": {
    "collapsed": false
   },
   "outputs": [],
   "source": [
    "# Create a function to read any row&column combination\n",
    "def get_values(row, column, df):\n",
    "    '''\n",
    "    row, column = integers <= df.shape\n",
    "    df = df\n",
    "    {'Row_1_Column_2': 47}\n",
    "    '''\n",
    "    return { ''.join(['Row_',str(row+1),'_Column_',str(column+1)]) : df.iloc[row,column]} \n",
    "# the +1 is to accommodate to the original request"
   ]
  },
  {
   "cell_type": "markdown",
   "metadata": {},
   "source": [
    "## 2. List all files matching the pattern and read them"
   ]
  },
  {
   "cell_type": "code",
   "execution_count": 4,
   "metadata": {
    "collapsed": false
   },
   "outputs": [
    {
     "data": {
      "text/plain": [
       "['book1.xlsx', 'Book2.xlsx']"
      ]
     },
     "execution_count": 4,
     "metadata": {},
     "output_type": "execute_result"
    }
   ],
   "source": [
    "# List files to read\n",
    "# navigate to dir\n",
    "try:\n",
    "    os.chdir(os.path.join(os.getcwd(), '19_files'))\n",
    "except:\n",
    "    pass # probably already in the path\n",
    "# get the files that match the pattern --here, all xlsx files\n",
    "filenames = glob('*.xlsx')\n",
    "filenames"
   ]
  },
  {
   "cell_type": "code",
   "execution_count": 5,
   "metadata": {
    "collapsed": false
   },
   "outputs": [
    {
     "data": {
      "text/plain": [
       "{'Book1': {'Row_2_Column_3': 47, 'Row_8_Column_2': 30},\n",
       " 'Book2': {'Row_2_Column_3': 94, 'Row_8_Column_2': 60}}"
      ]
     },
     "execution_count": 5,
     "metadata": {},
     "output_type": "execute_result"
    }
   ],
   "source": [
    "# Create an empty dictionary to store values\n",
    "results = {}\n",
    "# Iterate through the filenames\n",
    "for i in filenames:\n",
    "    read_xls = pd.read_excel(i, header=None)\n",
    "    # Drop extension and Capitalize text\n",
    "    i = os.path.splitext(i)[0].capitalize()\n",
    "    results[i] = {}\n",
    "    # Iterate through combinations of row_columns needed\n",
    "    for comb in RESULTS_NEEDED:\n",
    "        results[i].update(get_values(comb[0],comb[1], read_xls))\n",
    "results "
   ]
  },
  {
   "cell_type": "code",
   "execution_count": 6,
   "metadata": {
    "collapsed": false
   },
   "outputs": [
    {
     "data": {
      "text/html": [
       "<div>\n",
       "<table border=\"1\" class=\"dataframe\">\n",
       "  <thead>\n",
       "    <tr style=\"text-align: right;\">\n",
       "      <th></th>\n",
       "      <th>Row_8_Column_2</th>\n",
       "      <th>Row_2_Column_3</th>\n",
       "    </tr>\n",
       "  </thead>\n",
       "  <tbody>\n",
       "    <tr>\n",
       "      <th>Book1</th>\n",
       "      <td>30</td>\n",
       "      <td>47</td>\n",
       "    </tr>\n",
       "    <tr>\n",
       "      <th>Book2</th>\n",
       "      <td>60</td>\n",
       "      <td>94</td>\n",
       "    </tr>\n",
       "  </tbody>\n",
       "</table>\n",
       "</div>"
      ],
      "text/plain": [
       "       Row_8_Column_2  Row_2_Column_3\n",
       "Book1              30              47\n",
       "Book2              60              94"
      ]
     },
     "execution_count": 6,
     "metadata": {},
     "output_type": "execute_result"
    }
   ],
   "source": [
    "# convert to df\n",
    "df_results = pd.DataFrame.from_dict(results, orient='index')\n",
    "df_results"
   ]
  }
 ],
 "metadata": {
  "anaconda-cloud": {},
  "kernelspec": {
   "display_name": "Python [default]",
   "language": "python",
   "name": "python3"
  },
  "language_info": {
   "codemirror_mode": {
    "name": "ipython",
    "version": 3
   },
   "file_extension": ".py",
   "mimetype": "text/x-python",
   "name": "python",
   "nbconvert_exporter": "python",
   "pygments_lexer": "ipython3",
   "version": "3.5.2"
  }
 },
 "nbformat": 4,
 "nbformat_minor": 2
}
